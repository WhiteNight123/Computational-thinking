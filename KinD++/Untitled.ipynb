{
 "cells": [
  {
   "cell_type": "code",
   "execution_count": 3,
   "id": "ae2a6aef-62dc-4a71-bcd9-bf4b69bbb4dc",
   "metadata": {},
   "outputs": [
    {
     "name": "stderr",
     "output_type": "stream",
     "text": [
      "WARNING:tensorflow:From C:\\Users\\WhiteNight\\miniconda3\\envs\\tensorflow\\lib\\site-packages\\tensorflow_core\\python\\compat\\v2_compat.py:65: disable_resource_variables (from tensorflow.python.ops.variable_scope) is deprecated and will be removed in a future version.\n",
      "Instructions for updating:\n",
      "non-resource variables are not supported in the long term\n",
      "Traceback (most recent call last):\n",
      "  File \"evaluate.py\", line 10, in <module>\n",
      "    from model import *\n",
      "  File \"D:\\Code\\Python\\DeepLearning\\KinD++\\model.py\", line 3, in <module>\n",
      "    import tf_slim as slim\n",
      "ModuleNotFoundError: No module named 'tf_slim'\n"
     ]
    }
   ],
   "source": [
    "!python evaluate.py"
   ]
  },
  {
   "cell_type": "code",
   "execution_count": 6,
   "id": "98eb0d68-ffd4-4ae3-bf93-5ff5d15819bb",
   "metadata": {},
   "outputs": [
    {
     "name": "stdout",
     "output_type": "stream",
     "text": [
      "Looking in indexes: https://pypi.tuna.tsinghua.edu.cn/simple\n"
     ]
    },
    {
     "name": "stderr",
     "output_type": "stream",
     "text": [
      "ERROR: Could not find a version that satisfies the requirement tr_slim (from versions: none)\n",
      "ERROR: No matching distribution found for tr_slim\n"
     ]
    }
   ],
   "source": [
    "!pip install tr_slim"
   ]
  },
  {
   "cell_type": "code",
   "execution_count": null,
   "id": "ebb5b0d5-282b-4677-a3be-7aef642f2ed1",
   "metadata": {},
   "outputs": [],
   "source": []
  }
 ],
 "metadata": {
  "kernelspec": {
   "display_name": "Python 3",
   "language": "python",
   "name": "python3"
  },
  "language_info": {
   "codemirror_mode": {
    "name": "ipython",
    "version": 3
   },
   "file_extension": ".py",
   "mimetype": "text/x-python",
   "name": "python",
   "nbconvert_exporter": "python",
   "pygments_lexer": "ipython3",
   "version": "3.6.13"
  }
 },
 "nbformat": 4,
 "nbformat_minor": 5
}
