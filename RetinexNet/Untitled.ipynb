{
 "cells": [
  {
   "cell_type": "code",
   "execution_count": 8,
   "id": "da8ff188-2ce3-46d8-b420-ee728e3e213a",
   "metadata": {},
   "outputs": [
    {
     "name": "stdout",
     "output_type": "stream",
     "text": [
      "[*] CPU"
     ]
    },
    {
     "name": "stderr",
     "output_type": "stream",
     "text": [
      "WARNING:tensorflow:From C:\\Users\\WhiteNight\\miniconda3\\envs\\tensorflow\\lib\\site-packages\\tensorflow_core\\python\\compat\\v2_compat.py:65: disable_resource_variables (from tensorflow.python.ops.variable_scope) is deprecated and will be removed in a future version.\n",
      "Instructions for updating:\n",
      "non-resource variables are not supported in the long term\n",
      "2023-05-27 15:30:22.049925: I tensorflow/core/platform/cpu_feature_guard.cc:142] Your CPU supports instructions that this TensorFlow binary was not compiled to use: AVX2\n",
      "WARNING:tensorflow:From D:\\Code\\Python\\DeepLearning\\RetinexNet\\model.py:21: conv2d (from tensorflow.python.layers.convolutional) is deprecated and will be removed in a future version.\n",
      "Instructions for updating:\n",
      "Use `tf.keras.layers.Conv2D` instead.\n",
      "W0527 15:30:22.058217 13176 deprecation.py:323] From D:\\Code\\Python\\DeepLearning\\RetinexNet\\model.py:21: conv2d (from tensorflow.python.layers.convolutional) is deprecated and will be removed in a future version.\n",
      "Instructions for updating:\n",
      "Use `tf.keras.layers.Conv2D` instead.\n",
      "WARNING:tensorflow:From C:\\Users\\WhiteNight\\miniconda3\\envs\\tensorflow\\lib\\site-packages\\tensorflow_core\\python\\layers\\convolutional.py:424: Layer.apply (from tensorflow.python.keras.engine.base_layer) is deprecated and will be removed in a future version.\n",
      "Instructions for updating:\n",
      "Please use `layer.__call__` method instead.\n",
      "W0527 15:30:22.059218 13176 deprecation.py:323] From C:\\Users\\WhiteNight\\miniconda3\\envs\\tensorflow\\lib\\site-packages\\tensorflow_core\\python\\layers\\convolutional.py:424: Layer.apply (from tensorflow.python.keras.engine.base_layer) is deprecated and will be removed in a future version.\n",
      "Instructions for updating:\n",
      "Please use `layer.__call__` method instead.\n",
      "WARNING:tensorflow:From D:\\Code\\Python\\DeepLearning\\RetinexNet\\model.py:118: average_pooling2d (from tensorflow.python.layers.pooling) is deprecated and will be removed in a future version.\n"
     ]
    },
    {
     "name": "stdout",
     "output_type": "stream",
     "text": [
      "\n",
      "\n",
      "[*] Initialize model successfully...\n",
      "[*] Reading checkpoint...\n",
      "[*] Load weights successfully...\n",
      "[*] Testing...\n",
      "./data/test/low\\source-sr.png\n",
      "./data/test/low\\source.png\n"
     ]
    },
    {
     "name": "stderr",
     "output_type": "stream",
     "text": [
      "Instructions for updating:\n",
      "Use keras.layers.AveragePooling2D instead.\n",
      "W0527 15:30:22.409345 13176 deprecation.py:323] From D:\\Code\\Python\\DeepLearning\\RetinexNet\\model.py:118: average_pooling2d (from tensorflow.python.layers.pooling) is deprecated and will be removed in a future version.\n",
      "Instructions for updating:\n",
      "Use keras.layers.AveragePooling2D instead.\n",
      "INFO:tensorflow:Restoring parameters from ./model/Decom\\RetinexNet-tensorflow\n",
      "I0527 15:30:23.977406 13176 saver.py:1284] Restoring parameters from ./model/Decom\\RetinexNet-tensorflow\n",
      "INFO:tensorflow:Restoring parameters from ./model/Relight\\RetinexNet-tensorflow\n",
      "I0527 15:30:24.028165 13176 saver.py:1284] Restoring parameters from ./model/Relight\\RetinexNet-tensorflow\n",
      "2023-05-27 15:30:24.182528: W tensorflow/core/framework/cpu_allocator_impl.cc:81] Allocation of 3170320384 exceeds 10% of system memory.\n",
      "2023-05-27 15:30:26.296614: W tensorflow/core/framework/cpu_allocator_impl.cc:81] Allocation of 3170320384 exceeds 10% of system memory.\n",
      "2023-05-27 15:30:29.547230: W tensorflow/core/framework/cpu_allocator_impl.cc:81] Allocation of 3170320384 exceeds 10% of system memory.\n",
      "2023-05-27 15:30:32.393897: W tensorflow/core/framework/cpu_allocator_impl.cc:81] Allocation of 3170320384 exceeds 10% of system memory.\n",
      "2023-05-27 15:30:35.117400: W tensorflow/core/framework/cpu_allocator_impl.cc:81] Allocation of 3170320384 exceeds 10% of system memory.\n"
     ]
    }
   ],
   "source": [
    "!python main.py --phase=test"
   ]
  },
  {
   "cell_type": "code",
   "execution_count": null,
   "id": "f3d78450-ef03-4f78-9f61-9cd35647f2fa",
   "metadata": {},
   "outputs": [],
   "source": []
  }
 ],
 "metadata": {
  "kernelspec": {
   "display_name": "Python 3",
   "language": "python",
   "name": "python3"
  },
  "language_info": {
   "codemirror_mode": {
    "name": "ipython",
    "version": 3
   },
   "file_extension": ".py",
   "mimetype": "text/x-python",
   "name": "python",
   "nbconvert_exporter": "python",
   "pygments_lexer": "ipython3",
   "version": "3.6.13"
  }
 },
 "nbformat": 4,
 "nbformat_minor": 5
}
